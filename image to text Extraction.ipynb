{
 "cells": [
  {
   "cell_type": "code",
   "execution_count": null,
   "id": "ef4e3131",
   "metadata": {},
   "outputs": [],
   "source": [
    "import pytesseract\n",
    "pytesseract.pytesseract.tesseract_cmd=r'C:\\Program Files\\Tesseract-OCR\\tesseract.exe'"
   ]
  },
  {
   "cell_type": "code",
   "execution_count": null,
   "id": "59f1b076",
   "metadata": {},
   "outputs": [],
   "source": [
    "import cv2\n",
    "from PIL import image "
   ]
  },
  {
   "cell_type": "code",
   "execution_count": null,
   "id": "79af3374",
   "metadata": {},
   "outputs": [],
   "source": [
    "img=cv2.imread('car1.jpg')\n",
    "cv2.imshow('sample image',img)\n",
    "cv2.waitKey(0)\n",
    "cv2.destroyAllWindows()"
   ]
  },
  {
   "cell_type": "code",
   "execution_count": null,
   "id": "6272806d",
   "metadata": {},
   "outputs": [],
   "source": [
    "text=pytesseract.image_to_string(img)\n",
    "print_1(text)"
   ]
  },
  {
   "cell_type": "code",
   "execution_count": null,
   "id": "30a690c7",
   "metadata": {},
   "outputs": [],
   "source": [
    "img=cv2.imread('car2.jpg')\n",
    "cv2.imshow('sample image',img)\n",
    "cv2.waitKey(0)\n",
    "cv2.destroyAllWindows()"
   ]
  },
  {
   "cell_type": "code",
   "execution_count": null,
   "id": "38e994c5",
   "metadata": {},
   "outputs": [],
   "source": [
    "text=pytesseract.image_to_string(img)\n",
    "print_2(text)"
   ]
  },
  {
   "cell_type": "code",
   "execution_count": null,
   "id": "86955c77",
   "metadata": {},
   "outputs": [],
   "source": [
    "img=cv2.imread('car3.jpg')\n",
    "cv2.imshow('sample image',img)\n",
    "cv2.waitKey(0)\n",
    "cv2.destroyAllWindows()"
   ]
  },
  {
   "cell_type": "code",
   "execution_count": null,
   "id": "764fde89",
   "metadata": {},
   "outputs": [],
   "source": [
    "text=pytesseract.image_to_string(img)\n",
    "print_3(text)"
   ]
  }
 ],
 "metadata": {
  "kernelspec": {
   "display_name": "Python 3",
   "language": "python",
   "name": "python3"
  },
  "language_info": {
   "codemirror_mode": {
    "name": "ipython",
    "version": 3
   },
   "file_extension": ".py",
   "mimetype": "text/x-python",
   "name": "python",
   "nbconvert_exporter": "python",
   "pygments_lexer": "ipython3",
   "version": "3.8.8"
  }
 },
 "nbformat": 4,
 "nbformat_minor": 5
}
